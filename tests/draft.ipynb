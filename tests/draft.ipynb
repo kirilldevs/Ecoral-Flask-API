{
 "cells": [
  {
   "cell_type": "code",
   "execution_count": 25,
   "metadata": {},
   "outputs": [],
   "source": [
    "# IMAGES\n",
    "from PIL import Image\n",
    "from io import BytesIO\n",
    "import requests\n",
    "from urllib.parse import urlparse"
   ]
  },
  {
   "cell_type": "code",
   "execution_count": 19,
   "metadata": {},
   "outputs": [],
   "source": [
    "def url_to_image(url):\n",
    "    response = requests.get(url) \n",
    "    if response.status_code == 200:\n",
    "        # Open the image using BytesIO which allows it to be read by PIL\n",
    "        img = Image.open(BytesIO(response.content))\n",
    "        # img.show()\n",
    "        return \"OK\"\n",
    "    else:\n",
    "        raise Exception(f\"Failed to fetch image from URL. Status code: {response.status_code}\")"
   ]
  },
  {
   "cell_type": "code",
   "execution_count": 20,
   "metadata": {},
   "outputs": [
    {
     "data": {
      "text/plain": [
       "'OK'"
      ]
     },
     "execution_count": 20,
     "metadata": {},
     "output_type": "execute_result"
    }
   ],
   "source": [
    "url = \"https://upload.wikimedia.org/wikipedia/commons/thumb/5/57/Octopus2.jpg/800px-Octopus2.jpg\"\n",
    "url_to_image(url)"
   ]
  },
  {
   "cell_type": "code",
   "execution_count": null,
   "metadata": {},
   "outputs": [
    {
     "data": {
      "text/plain": [
       "True"
      ]
     },
     "execution_count": 16,
     "metadata": {},
     "output_type": "execute_result"
    }
   ],
   "source": [
    "def is_url(string):\n",
    "    try:\n",
    "        result = urlparse(string)\n",
    "        return all([result.scheme, result.netloc])\n",
    "    except ValueError:\n",
    "        return False\n",
    "    \n",
    "is_url(url)"
   ]
  },
  {
   "cell_type": "code",
   "execution_count": 23,
   "metadata": {},
   "outputs": [
    {
     "name": "stdout",
     "output_type": "stream",
     "text": [
      "is string\n"
     ]
    }
   ],
   "source": [
    "st = \"s\"\n",
    "if isinstance(st,str):\n",
    "    print(\"is string\")\n"
   ]
  },
  {
   "cell_type": "code",
   "execution_count": 5,
   "metadata": {},
   "outputs": [
    {
     "name": "stdout",
     "output_type": "stream",
     "text": [
      "<Response [500]>\n",
      "<!doctype html>\n",
      "<html lang=en>\n",
      "<title>500 Internal Server Error</title>\n",
      "<h1>Internal Server Error</h1>\n",
      "<p>The server encountered an internal error and was unable to complete your request. Either the server is overloaded or there is an error in the application.</p>\n",
      "\n"
     ]
    }
   ],
   "source": [
    "import requests\n",
    "url = \"http://kirilldevs.pythonanywhere.com/api/upload\"\n",
    "data = {\n",
    "    \"arr\": [\n",
    "    {\n",
    "    \"text\": \"הזכרתי כבר פעם כמה אני אוהב את החוף הצפוני באילת? שנירקול זריחה הבוקר, מעל הכלים האמפיביים 19.1.24\",\n",
    "    \"image\": \"https://upload.wikimedia.org/wikipedia/commons/thumb/5/57/Octopus2.jpg/800px-Octopus2.jpg\",\n",
    "    \"date\":\"06/04/2024\"\n",
    "    },\n",
    "        {\n",
    "    \"text\": \"מצלילת הבוקר לאניית הקיטור האיטלקית עם פוצקר מועדון צלילה Putsker diving club\",\n",
    "    \"image\": \"https://images.pexels.com/photos/1618606/pexels-photo-1618606.jpeg?auto=compress&cs=tinysrgb&w=1260&h=750&dpr=1\"\n",
    "    }\n",
    "    ]\n",
    "}\n",
    "\n",
    "\n",
    "response = requests.post(url, json=data)\n",
    "print(response)\n",
    "\n",
    "print(response.text)"
   ]
  },
  {
   "cell_type": "code",
   "execution_count": 2,
   "metadata": {},
   "outputs": [],
   "source": [
    "from slugify import slugify"
   ]
  },
  {
   "cell_type": "code",
   "execution_count": 3,
   "metadata": {},
   "outputs": [
    {
     "name": "stdout",
     "output_type": "stream",
     "text": [
      "json-0a-0a-isaboutdiving-true-0a-number-of-people-1-0a-time-of-the-day-sunrise-0a-location-eilat-northern-beach-0a-animals-none-0a-environment-sandy-bottom-0a-0a\n"
     ]
    }
   ],
   "source": [
    "txt = \"+```json%0A{%0A++'isAboutDiving':+true,%0A++'number+of+people':+1,%0A++'time+of+the+day':+'sunrise',%0A++'location':+'Eilat+northern+beach',%0A++'animals':+'none',%0A++'environment':+'sandy+bottom'%0A}%0A```\"\n",
    "r = slugify(txt)\n",
    "print(r)"
   ]
  },
  {
   "cell_type": "code",
   "execution_count": 1,
   "metadata": {},
   "outputs": [],
   "source": [
    "x = {\n",
    "}"
   ]
  },
  {
   "cell_type": "code",
   "execution_count": 4,
   "metadata": {},
   "outputs": [
    {
     "name": "stdout",
     "output_type": "stream",
     "text": [
      "{'text': 'מצלילת הבוקר לאניית הקיטור האיטלקית עם פוצקר מועדון צלילה Putsker diving club', 'image': 'https://images.pexels.com/photos/1618606/pexels-photo-1618606.jpeg?auto=compress&cs=tinysrgb&w=1260&h=750&dpr=1'}\n"
     ]
    }
   ],
   "source": [
    "x = [{\n",
    "    \"text\": \"מצלילת הבוקר לאניית הקיטור האיטלקית עם פוצקר מועדון צלילה Putsker diving club\",\n",
    "    \"image\": \"https://images.pexels.com/photos/1618606/pexels-photo-1618606.jpeg?auto=compress&cs=tinysrgb&w=1260&h=750&dpr=1\"\n",
    "    }]\n",
    "\n",
    "print(x[0])"
   ]
  },
  {
   "cell_type": "code",
   "execution_count": 13,
   "metadata": {},
   "outputs": [
    {
     "name": "stdout",
     "output_type": "stream",
     "text": [
      "True\n"
     ]
    }
   ],
   "source": [
    "x = [1]\n",
    "print(bool(x))"
   ]
  },
  {
   "cell_type": "code",
   "execution_count": 1,
   "metadata": {},
   "outputs": [],
   "source": [
    "import uuid\n"
   ]
  },
  {
   "cell_type": "code",
   "execution_count": 12,
   "metadata": {},
   "outputs": [
    {
     "data": {
      "text/plain": [
       "'ad8abd3d-f48d-41f3-bc1f-65e6936e1ef5'"
      ]
     },
     "execution_count": 12,
     "metadata": {},
     "output_type": "execute_result"
    }
   ],
   "source": [
    "api = str(uuid.uuid4())\n",
    "api"
   ]
  },
  {
   "cell_type": "code",
   "execution_count": 7,
   "metadata": {},
   "outputs": [
    {
     "data": {
      "text/plain": [
       "True"
      ]
     },
     "execution_count": 7,
     "metadata": {},
     "output_type": "execute_result"
    }
   ],
   "source": [
    "True or False"
   ]
  },
  {
   "cell_type": "code",
   "execution_count": 8,
   "metadata": {},
   "outputs": [
    {
     "name": "stdout",
     "output_type": "stream",
     "text": [
      "NOT OK\n"
     ]
    }
   ],
   "source": [
    "myDict = {\"no data\": \"The post is not about diving\"}\n",
    "if \"no data\" in myDict:\n",
    "    print(\"OK\")\n",
    "else:\n",
    "    print(\"NOT OK\")"
   ]
  },
  {
   "cell_type": "code",
   "execution_count": 9,
   "metadata": {},
   "outputs": [
    {
     "name": "stdout",
     "output_type": "stream",
     "text": [
      "Href value: https://example.com\n"
     ]
    }
   ],
   "source": [
    "from bs4 import BeautifulSoup\n",
    "\n",
    "html_content = \"\"\"\n",
    "<span class=\"\"><span class=\"xt0psk2\"><a class=\"x1i10hfl x1qjc9v5 xjbqb8w xjqpnuy xa49m3k xqeqjp1 x2hbi6w x13fuv20 xu3j5b3 x1q0q8m5 x26u7qi x972fbf xcfux6l x1qhh985 xm0m39n x9f619 x1ypdohk xdl72j9 x2lah0s xe8uvvx xdj266r x11i5rnm xat24cr x1mh8g0r x2lwn1j xeuugli xexx8yu x4uap5 x18d9i69 xkhd6sd x1n2onr6 x16tdsg8 x1hl2dhg xggy1nq x1ja2u2z x1t137rt x1o1ewxj x3x9cwd x1e5q0jg x13rtm0m x1q0g3np x87ps6o x1lku1pv x1a2a7pz xzsf02u x1rg5ohu\" href=\"https://example.com\">Link</a></span></span>\n",
    "\"\"\"\n",
    "\n",
    "soup = BeautifulSoup(html_content, 'html.parser')\n",
    "\n",
    "# Find the <a> tag with the specified classes\n",
    "a_tag = soup.find('a', class_='x1i10hfl x1qjc9v5 xjbqb8w xjqpnuy xa49m3k xqeqjp1 x2hbi6w x13fuv20 xu3j5b3 x1q0q8m5 x26u7qi x972fbf xcfux6l x1qhh985 xm0m39n x9f619 x1ypdohk xdl72j9 x2lah0s xe8uvvx xdj266r x11i5rnm xat24cr x1mh8g0r x2lwn1j xeuugli xexx8yu x4uap5 x18d9i69 xkhd6sd x1n2onr6 x16tdsg8 x1hl2dhg xggy1nq x1ja2u2z x1t137rt x1o1ewxj x3x9cwd x1e5q0jg x13rtm0m x1q0g3np x87ps6o x1lku1pv x1a2a7pz xzsf02u x1rg5ohu')\n",
    "\n",
    "# Get the href attribute value\n",
    "href_value = a_tag['href']\n",
    "\n",
    "print(\"Href value:\", href_value)\n"
   ]
  },
  {
   "cell_type": "code",
   "execution_count": 14,
   "metadata": {},
   "outputs": [
    {
     "name": "stdout",
     "output_type": "stream",
     "text": [
      "<script ty\n"
     ]
    }
   ],
   "source": [
    "with open('html.txt', 'r') as file:\n",
    "    data = file.read()\n"
   ]
  },
  {
   "cell_type": "code",
   "execution_count": 16,
   "metadata": {},
   "outputs": [
    {
     "name": "stdout",
     "output_type": "stream",
     "text": [
      "Href values: ['https://www.facebook.com/groups/218215284883397/?__tn__=%3C', '/groups/218215284883397/members/?__tn__=%3C', '/groups/218215284883397/members/?__tn__=%3C', '/groups/218215284883397/members/?__tn__=%3C', '/groups/218215284883397/members/?__tn__=%3C', '/groups/218215284883397/members/?__tn__=%3C', '/groups/218215284883397/members/?__tn__=%3C', '/groups/218215284883397/members/?__tn__=%3C', '/groups/218215284883397/members/?__tn__=%3C', '/groups/218215284883397/members/?__tn__=%3C', '/groups/218215284883397/members/?__tn__=%3C', '/groups/218215284883397/members/?__tn__=%3C', '/groups/218215284883397/members/?__tn__=%3C', '/groups/218215284883397/members/?__tn__=%3C', '/groups/218215284883397/members/?__tn__=%3C', '/groups/218215284883397/members/?__tn__=%3C', '/groups/218215284883397/members/?__tn__=%3C', '/groups/218215284883397/members/?__tn__=%3C', '/groups/218215284883397/members/?__tn__=%3C', '/groups/218215284883397/members/?__tn__=%3C', '/groups/218215284883397/members/?__tn__=%3C', '/groups/218215284883397/user/1136768878/?__cft__[0]=AZUDGWCQlRyRg1yfPj-jUUA7AXg7d2kbaSl3X-OHUqDjRv9kFbszsPLV0mURqCJKfRrHVS-fDv5P0UKs0Rfo_yp_dSG8HtI9ceAj6WS89-CysYWi_cXKJOnKzuk0r2Y2MCfd7mB7M2GlNPgkd7JSu1Dx79-aDa2WW80DAdQCZ6jUIhe5F_FboVTKFSNdxloWhziZNk2Ni84aCjeSrK6PdVvB&__tn__=%3C%3C%2CP-R', '/groups/218215284883397/user/1020252857/?__cft__[0]=AZVXrck8mNIY4vvjTmJsSqLHJLTE4TWD0atA_xC3dIK7oxYmfop8J_P7yw_OFNXb4v-ZnGiF0ZN1bMXm5zwaMdZnL9WLgv2FXLIlSL9QWdDOdl4YjX82WylzWvwqj7jM75cGD0nDUJ0uMKMQhbeSrDFBrtewNjBJbZKliWZGIAytG72Q_KV7YM5L52TcK0WLg4k7NU7Ij4YZYLIrlrDJ-ZQS&__tn__=%3C%3C%2CP-R', '/groups/218215284883397/user/100000158956820/?__cft__[0]=AZVGssOvY7MxI57msi3nFqYLj8tpl5L3r7eOzyV3DaZdYLcBX2A4leLWlMgcBBVNdGPdCyY5eepzrIoJFNJ_ng8GgzY8zPQM4B9NjHbXo4nvFGxCZOJwz6Hip_5gWVef5xI6GkE7SGA5szxTgLeR28JGIGjYHvWReX1O2aTxxGUbT--PzRXYPleGtQ0_ofv_JhMi-W84W7C3FA4naVPTMhJV&__tn__=%3C%3C%2CP-R', '/groups/218215284883397/user/1373382790/?__cft__[0]=AZXbmwmmCviNuyev3AaeY9Bg8hThcVlpum19BRa639fvHNllvMY0xv8xUgV7Ek0QFplk1UwA3O0rQyvDeUvWI9NN94DV4sIXjYXuhzb8hzXKCREYaAnnrbO8P7D1hYDp-Ys1LCQKlqMvGHG3KfjNz_cFxJN-By08B0VI7dwjT3fbylzZmYGhR_wfWN2vH-IkqQs6svm66kVqx5c6fk5P3UqB&__tn__=%3C%3C%2CP-R', '/groups/218215284883397/?hoisted_section_header_type=recently_seen&multi_permalinks=7726875347350649&__cft__[0]=AZWyL_oUbV7AXh3aZSLD-JgWB_X6HrPuUjJBagJcW7xBj-i-Kg0hUf2FLHSD-PziRyrbXzA7qmyqB8kVgN7imKgU9xOkGqBtaRsOXVpWrfS4fTb2LeB2yB-ziRpgwByB4_dHDVbe3e7iAMXG8CUSLrTt2sW5aQxgymAbSA5tAIGh4L1DGQqacVAd7z9NFD99JekXLa2Kv9Mx33l-ODCRWeVRdNr-5ivt7eFvIczchVw4l02j_aVA-wxBkYM2xMIIjIQ&__cft__[1]=AZWyL_oUbV7AXh3aZSLD-JgWB_X6HrPuUjJBagJcW7xBj-i-Kg0hUf2FLHSD-PziRyrbXzA7qmyqB8kVgN7imKgU9xOkGqBtaRsOXVpWrfS4fTb2LeB2yB-ziRpgwByB4_dHDVbe3e7iAMXG8CUSLrTt2sW5aQxgymAbSA5tAIGh4L1DGQqacVAd7z9NFD99JekXLa2Kv9Mx33l-ODCRWeVRdNr-5ivt7eFvIczchVw4l02j_aVA-wxBkYM2xMIIjIQ&__tn__=%3CH-R']\n",
      "26\n"
     ]
    }
   ],
   "source": [
    "from bs4 import BeautifulSoup\n",
    "\n",
    "html_content = data\n",
    "\n",
    "soup = BeautifulSoup(html_content, 'html.parser')\n",
    "\n",
    "# Find all <a> tags with the specified classes\n",
    "a_tags = soup.find_all('a', class_='x1i10hfl x1qjc9v5 xjbqb8w xjqpnuy xa49m3k xqeqjp1 x2hbi6w x13fuv20 xu3j5b3 x1q0q8m5 x26u7qi x972fbf xcfux6l x1qhh985 xm0m39n x9f619 x1ypdohk xdl72j9 x2lah0s xe8uvvx xdj266r x11i5rnm xat24cr x1mh8g0r x2lwn1j xeuugli xexx8yu x4uap5 x18d9i69 xkhd6sd x1n2onr6 x16tdsg8 x1hl2dhg xggy1nq x1ja2u2z x1t137rt x1o1ewxj x3x9cwd x1e5q0jg x13rtm0m x1q0g3np x87ps6o x1lku1pv x1a2a7pz xzsf02u x1rg5ohu')\n",
    "\n",
    "# Get the href attribute values for all found <a> tags\n",
    "href_values = [a['href'] for a in a_tags]\n",
    "\n",
    "print(\"Href values:\", href_values)\n",
    "print(len(href_values))\n"
   ]
  },
  {
   "cell_type": "code",
   "execution_count": 27,
   "metadata": {},
   "outputs": [
    {
     "name": "stdout",
     "output_type": "stream",
     "text": [
      "Href value: https://www.facebook.com/groups/218215284883397/?__tn__=%3C\n",
      "218215284883397\n",
      "Href value: https://www.facebook.com/groups/218215284883397/?__tn__=%3C\n",
      "218215284883397\n",
      "Href value: https://www.facebook.com/groups/218215284883397/?__tn__=%3C\n",
      "218215284883397\n",
      "Href value: https://www.facebook.com/groups/218215284883397/?__tn__=%3C\n",
      "218215284883397\n",
      "Href value: https://www.facebook.com/groups/218215284883397/?__tn__=%3C\n",
      "218215284883397\n",
      "Href value: https://www.facebook.com/groups/218215284883397/?__tn__=%3C\n",
      "218215284883397\n",
      "Href value: https://www.facebook.com/groups/218215284883397/?__tn__=%3C\n",
      "218215284883397\n",
      "Href value: https://www.facebook.com/groups/218215284883397/?__tn__=%3C\n",
      "218215284883397\n",
      "Href value: https://www.facebook.com/groups/218215284883397/?__tn__=%3C\n",
      "218215284883397\n",
      "Href value: https://www.facebook.com/groups/218215284883397/?__tn__=%3C\n",
      "218215284883397\n"
     ]
    }
   ],
   "source": [
    "from bs4 import BeautifulSoup    \n",
    "import re\n",
    "\n",
    "soup = BeautifulSoup(data, 'html.parser')\n",
    "\n",
    "feed_divs = soup.find_all('div', role=\"feed\")\n",
    "\n",
    "initial_classes = [\"x1yztbdb\", \"x1n2onr6\", \"xh8yej3\", \"x1ja2u2z\"]\n",
    "nested_classes_for_text = \"xdj266r x11i5rnm xat24cr x1mh8g0r x1vvkbs\".split()\n",
    "nested_classes_for_images = \"x1ey2m1c xds687c x5yr21d x10l6tqk x17qophe x13vifvy xh8yej3 xl1xv1r\".split()\n",
    "alternate_classes_for_images = \"xz74otr x1ey2m1c xds687c x5yr21d x10l6tqk x17qophe x13vifvy xh8yej3\".split()\n",
    "nested_a_classes_for_videos = \"x1i10hfl x1ejq31n xd10rxx x1sy0etr x17r0tee x972fbf xcfux6l x1qhh985 xm0m39n x9f619 xe8uvvx x16tdsg8 x1hl2dhg xggy1nq x1o1ewxj x3x9cwd x1e5q0jg x13rtm0m x1n2onr6 x87ps6o x1lku1pv xjbqb8w x76ihet xwmqs3e x112ta8 xxxdfa6 x1ypdohk x1rg5ohu x1qx5ct2 x1k70j0n x1w0mnb xzueoph x1mnrxsn x1iy03kw xexx8yu x4uap5 x18d9i69 xkhd6sd x1o7uuvo x1a2a7pz\".split()\n",
    "classes_a_for_url = [\"x1i10hfl\", \"xjbqb8w\", \"x1ejq31n\", \"xd10rxx\", \"x1sy0etr\", \"x17r0tee\", \"x972fbf\", \"xcfux6l\", \"x1qhh985\", \"xm0m39n\", \"x9f619\", \"x1ypdohk\", \"xt0psk2\", \"xe8uvvx\", \"xdj266r\", \"x11i5rnm\", \"xat24cr\", \"x1mh8g0r\", \"xexx8yu\", \"x4uap5\", \"x18d9i69\", \"xkhd6sd\", \"x16tdsg8\", \"x1hl2dhg\", \"xggy1nq\", \"x1a2a7pz\", \"x1heor9g\", \"xt0b8zv\", \"xo1l8bm\"]\n",
    "\n",
    "collected_data = []\n",
    "\n",
    "# --------------- V1 - more than 1 image ---------------\n",
    "for feed_div in feed_divs:\n",
    "    found_divs = feed_div.find_all('div', class_=lambda class_: class_ and all(c in class_.split() for c in initial_classes))\n",
    "\n",
    "    for div in found_divs:\n",
    "      \n",
    "        text = None\n",
    "        nested_div_1 = div.find('div', class_=lambda class_: class_ and all(c in class_.split() for c in nested_classes_for_text))\n",
    "        if nested_div_1 and nested_div_1.text:\n",
    "            text = nested_div_1.text\n",
    "\n",
    "        nested_imgs = div.find_all('img', class_=lambda class_: class_ and all(c in class_.split() for c in nested_classes_for_images))\n",
    "        if not nested_imgs:  \n",
    "            nested_imgs = div.find_all('img', class_=lambda class_: class_ and all(c in class_.split() for c in alternate_classes_for_images))\n",
    "\n",
    "        for img in nested_imgs:\n",
    "            \n",
    "            if img and img.get('src'):\n",
    "\n",
    "\n",
    "                a_tag = soup.find('a', class_='x1i10hfl x1qjc9v5 xjbqb8w xjqpnuy xa49m3k xqeqjp1 x2hbi6w x13fuv20 xu3j5b3 x1q0q8m5 x26u7qi x972fbf xcfux6l x1qhh985 xm0m39n x9f619 x1ypdohk xdl72j9 x2lah0s xe8uvvx xdj266r x11i5rnm xat24cr x1mh8g0r x2lwn1j xeuugli xexx8yu x4uap5 x18d9i69 xkhd6sd x1n2onr6 x16tdsg8 x1hl2dhg xggy1nq x1ja2u2z x1t137rt x1o1ewxj x3x9cwd x1e5q0jg x13rtm0m x1q0g3np x87ps6o x1lku1pv x1a2a7pz xzsf02u x1rg5ohu')\n",
    "                href_value = a_tag['href']\n",
    "                print(\"Href value:\", href_value)\n",
    "\n",
    "                group_number = re.search(r'groups/([^/]+)/', href_value).group(1)\n",
    "                print(group_number)\n",
    "\n",
    "\n",
    "\n",
    "                entry = {'image': img['src']}\n",
    "                if text:\n",
    "                    entry['text'] = text\n",
    "\n",
    "                nested_a_video = div.find('a', class_=lambda class_: class_ and all(c in class_.split() for c in nested_a_classes_for_videos))\n",
    "                if nested_a_video and nested_a_video.get('href'):\n",
    "                    entry['video'] = nested_a_video['href']\n",
    "\n",
    "                url_a_tag = div.find('a', class_=lambda class_: class_ and all(c in class_.split() for c in classes_a_for_url))\n",
    "                if url_a_tag:\n",
    "                    entry['url'] = url_a_tag['href']\n",
    "\n",
    "                collected_data.append(entry)\n",
    "\n",
    "# with open('file.txt', 'w', encoding='utf-8') as file:\n",
    "#     file.write(json.dumps(collected_data, ensure_ascii=False))"
   ]
  },
  {
   "cell_type": "code",
   "execution_count": 23,
   "metadata": {},
   "outputs": [
    {
     "name": "stdout",
     "output_type": "stream",
     "text": [
      "[{'image': 'https://scontent.ftlv20-1.fna.fbcdn.net/v/t39.30808-6/439245571_10229707434723036_7449074145775830485_n.jpg?stp=cp6_dst-jpg_s600x600&_nc_cat=108&ccb=1-7&_nc_sid=5f2048&_nc_ohc=LSm0jbp3m_kQ7kNvgFvlOGh&_nc_ht=scontent.ftlv20-1.fna&oh=00_AfA1szBvxogOMan-VUrMXTsUhcCumbs2ZMiOpAwXGaPoXA&oe=663BC8B1', 'text': 'סוף ספארי בקפריסיןהספינה קירנייה ומוזיאון הפסלים', 'url': 'https://www.facebook.com/groups/218215284883397/posts/7714640438574140/?__cft__[0]=AZVXrck8mNIY4vvjTmJsSqLHJLTE4TWD0atA_xC3dIK7oxYmfop8J_P7yw_OFNXb4v-ZnGiF0ZN1bMXm5zwaMdZnL9WLgv2FXLIlSL9QWdDOdl4YjX82WylzWvwqj7jM75cGD0nDUJ0uMKMQhbeSrDFBrtewNjBJbZKliWZGIAytG72Q_KV7YM5L52TcK0WLg4k7NU7Ij4YZYLIrlrDJ-ZQS&__tn__=%2CO%2CP-R'}, {'image': 'https://scontent.ftlv20-1.fna.fbcdn.net/v/t39.30808-6/439218139_10229707435523056_5722696093832907316_n.jpg?stp=cp6_dst-jpg_s600x600&_nc_cat=109&ccb=1-7&_nc_sid=5f2048&_nc_ohc=sYxUSReeJ1wQ7kNvgHHD0Ua&_nc_ht=scontent.ftlv20-1.fna&oh=00_AfDpp7pQXgFOndt7T98dlNHJJ4-hJUa9ohxFOuYcR8WFiQ&oe=663BEA09', 'text': 'סוף ספארי בקפריסיןהספינה קירנייה ומוזיאון הפסלים', 'url': 'https://www.facebook.com/groups/218215284883397/posts/7714640438574140/?__cft__[0]=AZVXrck8mNIY4vvjTmJsSqLHJLTE4TWD0atA_xC3dIK7oxYmfop8J_P7yw_OFNXb4v-ZnGiF0ZN1bMXm5zwaMdZnL9WLgv2FXLIlSL9QWdDOdl4YjX82WylzWvwqj7jM75cGD0nDUJ0uMKMQhbeSrDFBrtewNjBJbZKliWZGIAytG72Q_KV7YM5L52TcK0WLg4k7NU7Ij4YZYLIrlrDJ-ZQS&__tn__=%2CO%2CP-R'}, {'image': 'https://scontent.ftlv20-1.fna.fbcdn.net/v/t39.30808-6/439162810_10229707435963067_7601429965350609215_n.jpg?stp=cp6_dst-jpg_s600x600&_nc_cat=106&ccb=1-7&_nc_sid=5f2048&_nc_ohc=Zuha00td-rIQ7kNvgFES5bq&_nc_ht=scontent.ftlv20-1.fna&oh=00_AfD9gzgt1MVqEcXY99LMLhX2OZGlp7OPQIjXpcdNL_U0Kw&oe=663BCC3E', 'text': 'סוף ספארי בקפריסיןהספינה קירנייה ומוזיאון הפסלים', 'url': 'https://www.facebook.com/groups/218215284883397/posts/7714640438574140/?__cft__[0]=AZVXrck8mNIY4vvjTmJsSqLHJLTE4TWD0atA_xC3dIK7oxYmfop8J_P7yw_OFNXb4v-ZnGiF0ZN1bMXm5zwaMdZnL9WLgv2FXLIlSL9QWdDOdl4YjX82WylzWvwqj7jM75cGD0nDUJ0uMKMQhbeSrDFBrtewNjBJbZKliWZGIAytG72Q_KV7YM5L52TcK0WLg4k7NU7Ij4YZYLIrlrDJ-ZQS&__tn__=%2CO%2CP-R'}, {'image': 'https://scontent.ftlv20-1.fna.fbcdn.net/v/t39.30808-6/439208088_10229707437323101_3142884216459002710_n.jpg?stp=cp6_dst-jpg_s600x600&_nc_cat=107&ccb=1-7&_nc_sid=5f2048&_nc_ohc=cejmSPi_XJ0Q7kNvgG6YfQl&_nc_ht=scontent.ftlv20-1.fna&oh=00_AfDGUcJWoj3zOEbK1XlTc8CW9hNt2xa0sP7Pdq99MqOHMw&oe=663BECDE', 'text': 'סוף ספארי בקפריסיןהספינה קירנייה ומוזיאון הפסלים', 'url': 'https://www.facebook.com/groups/218215284883397/posts/7714640438574140/?__cft__[0]=AZVXrck8mNIY4vvjTmJsSqLHJLTE4TWD0atA_xC3dIK7oxYmfop8J_P7yw_OFNXb4v-ZnGiF0ZN1bMXm5zwaMdZnL9WLgv2FXLIlSL9QWdDOdl4YjX82WylzWvwqj7jM75cGD0nDUJ0uMKMQhbeSrDFBrtewNjBJbZKliWZGIAytG72Q_KV7YM5L52TcK0WLg4k7NU7Ij4YZYLIrlrDJ-ZQS&__tn__=%2CO%2CP-R'}, {'image': 'https://scontent.ftlv20-1.fna.fbcdn.net/v/t39.30808-6/439914938_10229707460323676_3712900832326396572_n.jpg?stp=cp6_dst-jpg_s600x600&_nc_cat=107&ccb=1-7&_nc_sid=5f2048&_nc_ohc=KuMpFdwa4XkQ7kNvgEza0qv&_nc_ht=scontent.ftlv20-1.fna&oh=00_AfAWIO2XShwCRI0iMBp_qZXhNX56UvxQu7RS8oE_Bt7rLg&oe=663BEC23', 'text': 'סוף ספארי בקפריסיןהספינה קירנייה ומוזיאון הפסלים', 'url': 'https://www.facebook.com/groups/218215284883397/posts/7714640438574140/?__cft__[0]=AZVXrck8mNIY4vvjTmJsSqLHJLTE4TWD0atA_xC3dIK7oxYmfop8J_P7yw_OFNXb4v-ZnGiF0ZN1bMXm5zwaMdZnL9WLgv2FXLIlSL9QWdDOdl4YjX82WylzWvwqj7jM75cGD0nDUJ0uMKMQhbeSrDFBrtewNjBJbZKliWZGIAytG72Q_KV7YM5L52TcK0WLg4k7NU7Ij4YZYLIrlrDJ-ZQS&__tn__=%2CO%2CP-R'}, {'image': 'https://scontent.ftlv20-1.fna.fbcdn.net/v/t39.30808-6/438094687_10225160571946079_5742481126168640147_n.jpg?stp=dst-jpg_p526x395&_nc_cat=109&ccb=1-7&_nc_sid=5f2048&_nc_ohc=kS9oPwE8NDoQ7kNvgEzzkfz&_nc_ht=scontent.ftlv20-1.fna&oh=00_AfB37xDp1KqWBOt_WX4ktonBwUejCQWkpKLIAW_DAkQuQg&oe=663BFD24', 'text': 'מקבץ אחרון מטיול ספונטני יחד עם Buddy-Divers,\\n                                                                עמוס יצורים קטנים ומדהימים בנוסי-בה, מדגסקר\\n                                                                \\n\\n', 'url': 'https://www.facebook.com/groups/218215284883397/posts/7726906380680879/?__cft__[0]=AZXbmwmmCviNuyev3AaeY9Bg8hThcVlpum19BRa639fvHNllvMY0xv8xUgV7Ek0QFplk1UwA3O0rQyvDeUvWI9NN94DV4sIXjYXuhzb8hzXKCREYaAnnrbO8P7D1hYDp-Ys1LCQKlqMvGHG3KfjNz_cFxJN-By08B0VI7dwjT3fbylzZmYGhR_wfWN2vH-IkqQs6svm66kVqx5c6fk5P3UqB&__tn__=%2CO%2CP-R'}, {'image': 'https://scontent.ftlv20-2.fna.fbcdn.net/v/t39.30808-6/438118368_10225160565705923_2348968125580125439_n.jpg?stp=dst-jpg_p526x395&_nc_cat=104&ccb=1-7&_nc_sid=5f2048&_nc_ohc=5yK_CxqR1z4Q7kNvgFS0FhQ&_nc_ht=scontent.ftlv20-2.fna&oh=00_AfAU4KkHHhNEGMFKfYPAZkBh3fZWoZfLZDHKQ3PFNJqMPg&oe=663BED97', 'text': 'מקבץ אחרון מטיול ספונטני יחד עם Buddy-Divers,\\n                                                                עמוס יצורים קטנים ומדהימים בנוסי-בה, מדגסקר\\n                                                                \\n\\n', 'url': 'https://www.facebook.com/groups/218215284883397/posts/7726906380680879/?__cft__[0]=AZXbmwmmCviNuyev3AaeY9Bg8hThcVlpum19BRa639fvHNllvMY0xv8xUgV7Ek0QFplk1UwA3O0rQyvDeUvWI9NN94DV4sIXjYXuhzb8hzXKCREYaAnnrbO8P7D1hYDp-Ys1LCQKlqMvGHG3KfjNz_cFxJN-By08B0VI7dwjT3fbylzZmYGhR_wfWN2vH-IkqQs6svm66kVqx5c6fk5P3UqB&__tn__=%2CO%2CP-R'}, {'image': 'https://scontent.ftlv20-1.fna.fbcdn.net/v/t39.30808-6/438172289_10225160561945829_7660540130942029040_n.jpg?stp=dst-jpg_p526x395&_nc_cat=110&ccb=1-7&_nc_sid=5f2048&_nc_ohc=y6iw9aQ3rCMQ7kNvgFpIr3E&_nc_ht=scontent.ftlv20-1.fna&oh=00_AfARuspvk2x9fu5EHgKR3P7wncLRp8QWoLTW3URx1Wd0gA&oe=663BDFA1', 'text': 'מקבץ אחרון מטיול ספונטני יחד עם Buddy-Divers,\\n                                                                עמוס יצורים קטנים ומדהימים בנוסי-בה, מדגסקר\\n                                                                \\n\\n', 'url': 'https://www.facebook.com/groups/218215284883397/posts/7726906380680879/?__cft__[0]=AZXbmwmmCviNuyev3AaeY9Bg8hThcVlpum19BRa639fvHNllvMY0xv8xUgV7Ek0QFplk1UwA3O0rQyvDeUvWI9NN94DV4sIXjYXuhzb8hzXKCREYaAnnrbO8P7D1hYDp-Ys1LCQKlqMvGHG3KfjNz_cFxJN-By08B0VI7dwjT3fbylzZmYGhR_wfWN2vH-IkqQs6svm66kVqx5c6fk5P3UqB&__tn__=%2CO%2CP-R'}, {'image': 'https://scontent.ftlv20-2.fna.fbcdn.net/v/t39.30808-6/438127768_10225160555145659_590469590823683723_n.jpg?stp=dst-jpg_s600x600&_nc_cat=100&ccb=1-7&_nc_sid=5f2048&_nc_ohc=gCGB2M4mTScQ7kNvgHQFyqM&_nc_ht=scontent.ftlv20-2.fna&oh=00_AfB-hbwKg8_LGEaaKZhUsIHeXADaRNfEDU1lXn-JOSJQWg&oe=663BDBA9', 'text': 'מקבץ אחרון מטיול ספונטני יחד עם Buddy-Divers,\\n                                                                עמוס יצורים קטנים ומדהימים בנוסי-בה, מדגסקר\\n                                                                \\n\\n', 'url': 'https://www.facebook.com/groups/218215284883397/posts/7726906380680879/?__cft__[0]=AZXbmwmmCviNuyev3AaeY9Bg8hThcVlpum19BRa639fvHNllvMY0xv8xUgV7Ek0QFplk1UwA3O0rQyvDeUvWI9NN94DV4sIXjYXuhzb8hzXKCREYaAnnrbO8P7D1hYDp-Ys1LCQKlqMvGHG3KfjNz_cFxJN-By08B0VI7dwjT3fbylzZmYGhR_wfWN2vH-IkqQs6svm66kVqx5c6fk5P3UqB&__tn__=%2CO%2CP-R'}, {'image': 'https://scontent.ftlv20-2.fna.fbcdn.net/v/t39.30808-6/438165375_10225160558785750_3784590152866505231_n.jpg?stp=dst-jpg_p526x395&_nc_cat=105&ccb=1-7&_nc_sid=5f2048&_nc_ohc=95xBkq_nbAYQ7kNvgGyKA8E&_nc_ht=scontent.ftlv20-2.fna&oh=00_AfB48H7tCKiKkBF2VtMsvFQXANMIyntrVcfnMQzxlSf1sQ&oe=663BE906', 'text': 'מקבץ אחרון מטיול ספונטני יחד עם Buddy-Divers,\\n                                                                עמוס יצורים קטנים ומדהימים בנוסי-בה, מדגסקר\\n                                                                \\n\\n', 'url': 'https://www.facebook.com/groups/218215284883397/posts/7726906380680879/?__cft__[0]=AZXbmwmmCviNuyev3AaeY9Bg8hThcVlpum19BRa639fvHNllvMY0xv8xUgV7Ek0QFplk1UwA3O0rQyvDeUvWI9NN94DV4sIXjYXuhzb8hzXKCREYaAnnrbO8P7D1hYDp-Ys1LCQKlqMvGHG3KfjNz_cFxJN-By08B0VI7dwjT3fbylzZmYGhR_wfWN2vH-IkqQs6svm66kVqx5c6fk5P3UqB&__tn__=%2CO%2CP-R'}]\n"
     ]
    }
   ],
   "source": [
    "print(collected_data)\n"
   ]
  },
  {
   "cell_type": "code",
   "execution_count": 24,
   "metadata": {},
   "outputs": [
    {
     "name": "stdout",
     "output_type": "stream",
     "text": [
      "10\n"
     ]
    }
   ],
   "source": [
    "print(len(collected_data))"
   ]
  },
  {
   "cell_type": "code",
   "execution_count": null,
   "metadata": {},
   "outputs": [],
   "source": []
  }
 ],
 "metadata": {
  "kernelspec": {
   "display_name": "Python 3",
   "language": "python",
   "name": "python3"
  },
  "language_info": {
   "codemirror_mode": {
    "name": "ipython",
    "version": 3
   },
   "file_extension": ".py",
   "mimetype": "text/x-python",
   "name": "python",
   "nbconvert_exporter": "python",
   "pygments_lexer": "ipython3",
   "version": "3.11.4"
  }
 },
 "nbformat": 4,
 "nbformat_minor": 2
}
