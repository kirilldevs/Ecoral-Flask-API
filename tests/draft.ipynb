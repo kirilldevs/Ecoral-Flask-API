{
 "cells": [
  {
   "cell_type": "code",
   "execution_count": 25,
   "metadata": {},
   "outputs": [],
   "source": [
    "# IMAGES\n",
    "from PIL import Image\n",
    "from io import BytesIO\n",
    "import requests\n",
    "from urllib.parse import urlparse"
   ]
  },
  {
   "cell_type": "code",
   "execution_count": 19,
   "metadata": {},
   "outputs": [],
   "source": [
    "def url_to_image(url):\n",
    "    response = requests.get(url) \n",
    "    if response.status_code == 200:\n",
    "        # Open the image using BytesIO which allows it to be read by PIL\n",
    "        img = Image.open(BytesIO(response.content))\n",
    "        # img.show()\n",
    "        return \"OK\"\n",
    "    else:\n",
    "        raise Exception(f\"Failed to fetch image from URL. Status code: {response.status_code}\")"
   ]
  },
  {
   "cell_type": "code",
   "execution_count": 20,
   "metadata": {},
   "outputs": [
    {
     "data": {
      "text/plain": [
       "'OK'"
      ]
     },
     "execution_count": 20,
     "metadata": {},
     "output_type": "execute_result"
    }
   ],
   "source": [
    "url = \"https://upload.wikimedia.org/wikipedia/commons/thumb/5/57/Octopus2.jpg/800px-Octopus2.jpg\"\n",
    "url_to_image(url)"
   ]
  },
  {
   "cell_type": "code",
   "execution_count": null,
   "metadata": {},
   "outputs": [
    {
     "data": {
      "text/plain": [
       "True"
      ]
     },
     "execution_count": 16,
     "metadata": {},
     "output_type": "execute_result"
    }
   ],
   "source": [
    "def is_url(string):\n",
    "    try:\n",
    "        result = urlparse(string)\n",
    "        return all([result.scheme, result.netloc])\n",
    "    except ValueError:\n",
    "        return False\n",
    "    \n",
    "is_url(url)"
   ]
  },
  {
   "cell_type": "code",
   "execution_count": 23,
   "metadata": {},
   "outputs": [
    {
     "name": "stdout",
     "output_type": "stream",
     "text": [
      "is string\n"
     ]
    }
   ],
   "source": [
    "st = \"s\"\n",
    "if isinstance(st,str):\n",
    "    print(\"is string\")\n"
   ]
  },
  {
   "cell_type": "code",
   "execution_count": 5,
   "metadata": {},
   "outputs": [
    {
     "name": "stdout",
     "output_type": "stream",
     "text": [
      "<Response [500]>\n",
      "<!doctype html>\n",
      "<html lang=en>\n",
      "<title>500 Internal Server Error</title>\n",
      "<h1>Internal Server Error</h1>\n",
      "<p>The server encountered an internal error and was unable to complete your request. Either the server is overloaded or there is an error in the application.</p>\n",
      "\n"
     ]
    }
   ],
   "source": [
    "import requests\n",
    "url = \"http://kirilldevs.pythonanywhere.com/api/upload\"\n",
    "data = {\n",
    "    \"arr\": [\n",
    "    {\n",
    "    \"text\": \"הזכרתי כבר פעם כמה אני אוהב את החוף הצפוני באילת? שנירקול זריחה הבוקר, מעל הכלים האמפיביים 19.1.24\",\n",
    "    \"image\": \"https://upload.wikimedia.org/wikipedia/commons/thumb/5/57/Octopus2.jpg/800px-Octopus2.jpg\",\n",
    "    \"date\":\"06/04/2024\"\n",
    "    },\n",
    "        {\n",
    "    \"text\": \"מצלילת הבוקר לאניית הקיטור האיטלקית עם פוצקר מועדון צלילה Putsker diving club\",\n",
    "    \"image\": \"https://images.pexels.com/photos/1618606/pexels-photo-1618606.jpeg?auto=compress&cs=tinysrgb&w=1260&h=750&dpr=1\"\n",
    "    }\n",
    "    ]\n",
    "}\n",
    "\n",
    "\n",
    "response = requests.post(url, json=data)\n",
    "print(response)\n",
    "\n",
    "print(response.text)"
   ]
  },
  {
   "cell_type": "code",
   "execution_count": 2,
   "metadata": {},
   "outputs": [],
   "source": [
    "from slugify import slugify"
   ]
  },
  {
   "cell_type": "code",
   "execution_count": 3,
   "metadata": {},
   "outputs": [
    {
     "name": "stdout",
     "output_type": "stream",
     "text": [
      "json-0a-0a-isaboutdiving-true-0a-number-of-people-1-0a-time-of-the-day-sunrise-0a-location-eilat-northern-beach-0a-animals-none-0a-environment-sandy-bottom-0a-0a\n"
     ]
    }
   ],
   "source": [
    "txt = \"+```json%0A{%0A++'isAboutDiving':+true,%0A++'number+of+people':+1,%0A++'time+of+the+day':+'sunrise',%0A++'location':+'Eilat+northern+beach',%0A++'animals':+'none',%0A++'environment':+'sandy+bottom'%0A}%0A```\"\n",
    "r = slugify(txt)\n",
    "print(r)"
   ]
  },
  {
   "cell_type": "code",
   "execution_count": 1,
   "metadata": {},
   "outputs": [],
   "source": [
    "x = {\n",
    "}"
   ]
  },
  {
   "cell_type": "code",
   "execution_count": 4,
   "metadata": {},
   "outputs": [
    {
     "name": "stdout",
     "output_type": "stream",
     "text": [
      "{'text': 'מצלילת הבוקר לאניית הקיטור האיטלקית עם פוצקר מועדון צלילה Putsker diving club', 'image': 'https://images.pexels.com/photos/1618606/pexels-photo-1618606.jpeg?auto=compress&cs=tinysrgb&w=1260&h=750&dpr=1'}\n"
     ]
    }
   ],
   "source": [
    "x = [{\n",
    "    \"text\": \"מצלילת הבוקר לאניית הקיטור האיטלקית עם פוצקר מועדון צלילה Putsker diving club\",\n",
    "    \"image\": \"https://images.pexels.com/photos/1618606/pexels-photo-1618606.jpeg?auto=compress&cs=tinysrgb&w=1260&h=750&dpr=1\"\n",
    "    }]\n",
    "\n",
    "print(x[0])"
   ]
  },
  {
   "cell_type": "code",
   "execution_count": 13,
   "metadata": {},
   "outputs": [
    {
     "name": "stdout",
     "output_type": "stream",
     "text": [
      "True\n"
     ]
    }
   ],
   "source": [
    "x = [1]\n",
    "print(bool(x))"
   ]
  },
  {
   "cell_type": "code",
   "execution_count": 1,
   "metadata": {},
   "outputs": [],
   "source": [
    "import uuid\n"
   ]
  },
  {
   "cell_type": "code",
   "execution_count": 12,
   "metadata": {},
   "outputs": [
    {
     "data": {
      "text/plain": [
       "'ad8abd3d-f48d-41f3-bc1f-65e6936e1ef5'"
      ]
     },
     "execution_count": 12,
     "metadata": {},
     "output_type": "execute_result"
    }
   ],
   "source": [
    "api = str(uuid.uuid4())\n",
    "api"
   ]
  },
  {
   "cell_type": "code",
   "execution_count": null,
   "metadata": {},
   "outputs": [],
   "source": []
  }
 ],
 "metadata": {
  "kernelspec": {
   "display_name": "Python 3",
   "language": "python",
   "name": "python3"
  },
  "language_info": {
   "codemirror_mode": {
    "name": "ipython",
    "version": 3
   },
   "file_extension": ".py",
   "mimetype": "text/x-python",
   "name": "python",
   "nbconvert_exporter": "python",
   "pygments_lexer": "ipython3",
   "version": "3.11.4"
  }
 },
 "nbformat": 4,
 "nbformat_minor": 2
}
